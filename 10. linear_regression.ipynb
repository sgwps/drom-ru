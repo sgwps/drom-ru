{
 "cells": [
  {
   "cell_type": "markdown",
   "metadata": {},
   "source": [
    "# Модель линейной регрессии"
   ]
  },
  {
   "cell_type": "code",
   "execution_count": 268,
   "metadata": {},
   "outputs": [],
   "source": [
    "import pandas as pd\n",
    "import seaborn as sns\n",
    "import matplotlib.pyplot as plt\n",
    "from scipy import stats\n",
    "import numpy as np\n",
    "from statsmodels.stats.outliers_influence import variance_inflation_factor\n",
    "from IPython.display import Latex"
   ]
  },
  {
   "cell_type": "code",
   "execution_count": 269,
   "metadata": {},
   "outputs": [],
   "source": [
    "data = pd.read_csv(\"extended_data.csv\", index_col=0, sep=';')"
   ]
  },
  {
   "cell_type": "code",
   "execution_count": 270,
   "metadata": {},
   "outputs": [
    {
     "data": {
      "text/html": [
       "<div>\n",
       "<style scoped>\n",
       "    .dataframe tbody tr th:only-of-type {\n",
       "        vertical-align: middle;\n",
       "    }\n",
       "\n",
       "    .dataframe tbody tr th {\n",
       "        vertical-align: top;\n",
       "    }\n",
       "\n",
       "    .dataframe thead th {\n",
       "        text-align: right;\n",
       "    }\n",
       "</style>\n",
       "<table border=\"1\" class=\"dataframe\">\n",
       "  <thead>\n",
       "    <tr style=\"text-align: right;\">\n",
       "      <th></th>\n",
       "      <th>Процент пропущенных значений</th>\n",
       "    </tr>\n",
       "  </thead>\n",
       "  <tbody>\n",
       "    <tr>\n",
       "      <th>flags</th>\n",
       "      <td>98.383126</td>\n",
       "    </tr>\n",
       "    <tr>\n",
       "      <th>VIN</th>\n",
       "      <td>89.260763</td>\n",
       "    </tr>\n",
       "    <tr>\n",
       "      <th>configuration</th>\n",
       "      <td>55.572560</td>\n",
       "    </tr>\n",
       "    <tr>\n",
       "      <th>body</th>\n",
       "      <td>51.666778</td>\n",
       "    </tr>\n",
       "    <tr>\n",
       "      <th>is_sport_line</th>\n",
       "      <td>42.597645</td>\n",
       "    </tr>\n",
       "    <tr>\n",
       "      <th>owner_count</th>\n",
       "      <td>27.154169</td>\n",
       "    </tr>\n",
       "    <tr>\n",
       "      <th>owners</th>\n",
       "      <td>27.154169</td>\n",
       "    </tr>\n",
       "    <tr>\n",
       "      <th>engine_liters_match_with_passport</th>\n",
       "      <td>26.395635</td>\n",
       "    </tr>\n",
       "    <tr>\n",
       "      <th>color_matches_with_passport</th>\n",
       "      <td>26.395635</td>\n",
       "    </tr>\n",
       "    <tr>\n",
       "      <th>year_matches_with_passport</th>\n",
       "      <td>26.395635</td>\n",
       "    </tr>\n",
       "    <tr>\n",
       "      <th>model_matches_with_passport</th>\n",
       "      <td>26.395635</td>\n",
       "    </tr>\n",
       "    <tr>\n",
       "      <th>power_matches_with_passport</th>\n",
       "      <td>26.395635</td>\n",
       "    </tr>\n",
       "    <tr>\n",
       "      <th>limitations</th>\n",
       "      <td>26.116175</td>\n",
       "    </tr>\n",
       "    <tr>\n",
       "      <th>wanted</th>\n",
       "      <td>26.116175</td>\n",
       "    </tr>\n",
       "    <tr>\n",
       "      <th>is_wanted</th>\n",
       "      <td>26.116175</td>\n",
       "    </tr>\n",
       "    <tr>\n",
       "      <th>vehicle_passport</th>\n",
       "      <td>26.076253</td>\n",
       "    </tr>\n",
       "    <tr>\n",
       "      <th>generation</th>\n",
       "      <td>8.656597</td>\n",
       "    </tr>\n",
       "    <tr>\n",
       "      <th>color</th>\n",
       "      <td>1.876372</td>\n",
       "    </tr>\n",
       "    <tr>\n",
       "      <th>petrol_type</th>\n",
       "      <td>1.876372</td>\n",
       "    </tr>\n",
       "    <tr>\n",
       "      <th>engine_volume_liters</th>\n",
       "      <td>1.570297</td>\n",
       "    </tr>\n",
       "    <tr>\n",
       "      <th>mileage</th>\n",
       "      <td>1.450529</td>\n",
       "    </tr>\n",
       "    <tr>\n",
       "      <th>mileage_per_year</th>\n",
       "      <td>1.450529</td>\n",
       "    </tr>\n",
       "    <tr>\n",
       "      <th>odometer</th>\n",
       "      <td>1.450529</td>\n",
       "    </tr>\n",
       "    <tr>\n",
       "      <th>power</th>\n",
       "      <td>1.397299</td>\n",
       "    </tr>\n",
       "    <tr>\n",
       "      <th>power_in_hp</th>\n",
       "      <td>1.397299</td>\n",
       "    </tr>\n",
       "    <tr>\n",
       "      <th>drive</th>\n",
       "      <td>0.871648</td>\n",
       "    </tr>\n",
       "    <tr>\n",
       "      <th>drive_hand</th>\n",
       "      <td>0.272806</td>\n",
       "    </tr>\n",
       "    <tr>\n",
       "      <th>transmission</th>\n",
       "      <td>0.119768</td>\n",
       "    </tr>\n",
       "    <tr>\n",
       "      <th>is_hybrid</th>\n",
       "      <td>0.066538</td>\n",
       "    </tr>\n",
       "    <tr>\n",
       "      <th>engine</th>\n",
       "      <td>0.066538</td>\n",
       "    </tr>\n",
       "    <tr>\n",
       "      <th>has_gas_cylinder</th>\n",
       "      <td>0.066538</td>\n",
       "    </tr>\n",
       "    <tr>\n",
       "      <th>is_electric</th>\n",
       "      <td>0.066538</td>\n",
       "    </tr>\n",
       "    <tr>\n",
       "      <th>docs_ok</th>\n",
       "      <td>0.000000</td>\n",
       "    </tr>\n",
       "    <tr>\n",
       "      <th>law</th>\n",
       "      <td>0.000000</td>\n",
       "    </tr>\n",
       "    <tr>\n",
       "      <th>age</th>\n",
       "      <td>0.000000</td>\n",
       "    </tr>\n",
       "    <tr>\n",
       "      <th>is_crossover</th>\n",
       "      <td>0.000000</td>\n",
       "    </tr>\n",
       "    <tr>\n",
       "      <th>year</th>\n",
       "      <td>0.000000</td>\n",
       "    </tr>\n",
       "    <tr>\n",
       "      <th>need_fix</th>\n",
       "      <td>0.000000</td>\n",
       "    </tr>\n",
       "    <tr>\n",
       "      <th>model</th>\n",
       "      <td>0.000000</td>\n",
       "    </tr>\n",
       "    <tr>\n",
       "      <th>price</th>\n",
       "      <td>0.000000</td>\n",
       "    </tr>\n",
       "    <tr>\n",
       "      <th>no_milage_in_russia</th>\n",
       "      <td>0.000000</td>\n",
       "    </tr>\n",
       "    <tr>\n",
       "      <th>URL</th>\n",
       "      <td>0.000000</td>\n",
       "    </tr>\n",
       "    <tr>\n",
       "      <th>city</th>\n",
       "      <td>0.000000</td>\n",
       "    </tr>\n",
       "    <tr>\n",
       "      <th>has_limitations</th>\n",
       "      <td>0.000000</td>\n",
       "    </tr>\n",
       "    <tr>\n",
       "      <th>manufacturer</th>\n",
       "      <td>0.000000</td>\n",
       "    </tr>\n",
       "  </tbody>\n",
       "</table>\n",
       "</div>"
      ],
      "text/plain": [
       "                                   Процент пропущенных значений\n",
       "flags                                                 98.383126\n",
       "VIN                                                   89.260763\n",
       "configuration                                         55.572560\n",
       "body                                                  51.666778\n",
       "is_sport_line                                         42.597645\n",
       "owner_count                                           27.154169\n",
       "owners                                                27.154169\n",
       "engine_liters_match_with_passport                     26.395635\n",
       "color_matches_with_passport                           26.395635\n",
       "year_matches_with_passport                            26.395635\n",
       "model_matches_with_passport                           26.395635\n",
       "power_matches_with_passport                           26.395635\n",
       "limitations                                           26.116175\n",
       "wanted                                                26.116175\n",
       "is_wanted                                             26.116175\n",
       "vehicle_passport                                      26.076253\n",
       "generation                                             8.656597\n",
       "color                                                  1.876372\n",
       "petrol_type                                            1.876372\n",
       "engine_volume_liters                                   1.570297\n",
       "mileage                                                1.450529\n",
       "mileage_per_year                                       1.450529\n",
       "odometer                                               1.450529\n",
       "power                                                  1.397299\n",
       "power_in_hp                                            1.397299\n",
       "drive                                                  0.871648\n",
       "drive_hand                                             0.272806\n",
       "transmission                                           0.119768\n",
       "is_hybrid                                              0.066538\n",
       "engine                                                 0.066538\n",
       "has_gas_cylinder                                       0.066538\n",
       "is_electric                                            0.066538\n",
       "docs_ok                                                0.000000\n",
       "law                                                    0.000000\n",
       "age                                                    0.000000\n",
       "is_crossover                                           0.000000\n",
       "year                                                   0.000000\n",
       "need_fix                                               0.000000\n",
       "model                                                  0.000000\n",
       "price                                                  0.000000\n",
       "no_milage_in_russia                                    0.000000\n",
       "URL                                                    0.000000\n",
       "city                                                   0.000000\n",
       "has_limitations                                        0.000000\n",
       "manufacturer                                           0.000000"
      ]
     },
     "execution_count": 270,
     "metadata": {},
     "output_type": "execute_result"
    }
   ],
   "source": [
    "missing = (data.isna().sum() / len(data)) * 100\n",
    "missing = missing[missing >= 0].sort_values(ascending=False)\n",
    "missing = pd.DataFrame({'Процент пропущенных значений' : missing})\n",
    "missing"
   ]
  },
  {
   "cell_type": "markdown",
   "metadata": {},
   "source": [
    "## Независимые переменные\n",
    "#### Метрические и дихотомические\n",
    "    - year\n",
    "    - mileage\n",
    "    - petrol_type\n",
    "    - law\n",
    "    - is_sport_line\n",
    "    - engine_volume_lites\n",
    "    - power_in_hp\n",
    "    - is_crossover\n",
    "    - owner_count\n",
    "#### Категориальные\n",
    "    - manufacturer\n",
    "    - color\n",
    "    - transmission"
   ]
  },
  {
   "cell_type": "markdown",
   "metadata": {},
   "source": [
    "### Дамми-переменные"
   ]
  },
  {
   "cell_type": "code",
   "execution_count": 271,
   "metadata": {},
   "outputs": [],
   "source": [
    "manufacturer_dummies = pd.get_dummies(data.manufacturer, prefix='manufacturer', prefix_sep='_', dtype=int)\n",
    "\n",
    "color_groups = ['black', 'white', 'grey_silver', 'blue_brown', 'red', 'other']\n",
    "def color_group(x):\n",
    "    if pd.isna(x):\n",
    "        return np.nan\n",
    "    for i in color_groups:\n",
    "        if x in i:\n",
    "            return i\n",
    "    return 'other'\n",
    "\n",
    "data['color_group'] = data['color'].apply(color_group)\n",
    "color_dummies = pd.get_dummies(data.color_group, prefix='color_gr_', prefix_sep='_', dtype=int)\n",
    "\n",
    "\n",
    "data['is_manual_transmission'] = data['transmission'].apply(lambda x : 1 if x == 'manual' else 0)\n",
    "\n",
    "data['is_diesel'] = data['petrol_type'].apply(lambda x : 1 if x == 'дизель' else 0)\n",
    "data['law_int'] = data['law'].apply(lambda x : 1 if x else 0)\n",
    "data['sport_int'] = data['is_sport_line'].apply(lambda x : 1 if x else 0)\n",
    "data['crossover_int'] = data['is_crossover'].apply(lambda x : 1 if x else 0)\n",
    "\n",
    "\n",
    "data = pd.concat([data, manufacturer_dummies, color_dummies], axis=1)"
   ]
  },
  {
   "cell_type": "markdown",
   "metadata": {},
   "source": [
    "## Зависимой переменной принимаем price"
   ]
  },
  {
   "cell_type": "code",
   "execution_count": 272,
   "metadata": {},
   "outputs": [
    {
     "data": {
      "text/plain": [
       "count    1.502900e+04\n",
       "mean     5.445201e+06\n",
       "std      5.926867e+06\n",
       "min      3.000000e+04\n",
       "25%      1.800000e+06\n",
       "50%      3.390000e+06\n",
       "75%      6.700000e+06\n",
       "max      1.000000e+08\n",
       "Name: price, dtype: float64"
      ]
     },
     "execution_count": 272,
     "metadata": {},
     "output_type": "execute_result"
    }
   ],
   "source": [
    "data['price'].describe()"
   ]
  },
  {
   "cell_type": "code",
   "execution_count": 273,
   "metadata": {},
   "outputs": [
    {
     "data": {
      "text/plain": [
       "3390000.0"
      ]
     },
     "execution_count": 273,
     "metadata": {},
     "output_type": "execute_result"
    }
   ],
   "source": [
    "data['price'].median()"
   ]
  },
  {
   "cell_type": "code",
   "execution_count": 274,
   "metadata": {},
   "outputs": [
    {
     "data": {
      "image/png": "[encoded data removed]",
      "text/plain": [
       "<Figure size 640x480 with 1 Axes>"
      ]
     },
     "metadata": {},
     "output_type": "display_data"
    }
   ],
   "source": [
    "sns.histplot(data.price, kde=True, stat='density')\n",
    "mu, std = stats.norm.fit(data.price)\n",
    "xmin, xmax = plt.xlim()\n",
    "x = np.linspace(xmin, xmax, 100)\n",
    "p = stats.norm.pdf(x, mu, std)\n",
    "plt.plot(x, p, 'k', linewidth=2)\n",
    "plt.show()"
   ]
  },
  {
   "cell_type": "code",
   "execution_count": 275,
   "metadata": {},
   "outputs": [
    {
     "data": {
      "text/latex": [
       "Skewness: 2.6579"
      ],
      "text/plain": [
       "<IPython.core.display.Latex object>"
      ]
     },
     "metadata": {},
     "output_type": "display_data"
    },
    {
     "data": {
      "text/latex": [
       "Kurtosis: 12.5998"
      ],
      "text/plain": [
       "<IPython.core.display.Latex object>"
      ]
     },
     "metadata": {},
     "output_type": "display_data"
    },
    {
     "data": {
      "text/latex": [
       "Quartile Deviation: 2450000.0000"
      ],
      "text/plain": [
       "<IPython.core.display.Latex object>"
      ]
     },
     "metadata": {},
     "output_type": "display_data"
    },
    {
     "data": {
      "text/latex": [
       "Decile Ratio: 15.8857"
      ],
      "text/plain": [
       "<IPython.core.display.Latex object>"
      ]
     },
     "metadata": {},
     "output_type": "display_data"
    }
   ],
   "source": [
    "display(Latex('Skewness: {:.4f}'.format(data['price'].skew())))\n",
    "display(Latex('Kurtosis: {:.4f}'.format(data['price'].kurt())))\n",
    "display(Latex('Quartile Deviation: {:.4f}'.format((data['price'].quantile(0.75) - data['price'].quantile(0.25))/2)))\n",
    "display(Latex('Decile Ratio: {:.4f}'.format(data['price'].quantile(0.9)/data['price'].quantile(0.1))))"
   ]
  },
  {
   "cell_type": "code",
   "execution_count": 276,
   "metadata": {},
   "outputs": [
    {
     "data": {
      "text/plain": [
       "KstestResult(statistic=0.19345586058844538, pvalue=0.0, statistic_location=5000000, statistic_sign=1)"
      ]
     },
     "execution_count": 276,
     "metadata": {},
     "output_type": "execute_result"
    }
   ],
   "source": [
    "stats.kstest(data.price, 'norm', args=(data.price.mean(), data.price.std()))"
   ]
  },
  {
   "cell_type": "markdown",
   "metadata": {},
   "source": [
    "Зависимая переменная \"price\" имеет распределение отличное от нормального (pvalue < 0.05). Также оно асимметрично (сдвиг в сторону меньших значений) и характеризуется пиковостью. Среднее значение - 5 445 201 рублей, стандартное отклонение довольно высокое - 5 926 867 рублей. Медиана  - 3 390 000. Межквартильная широта - 2 450 000 рублей, что также характеризует довольно большой разброс серединных 50% значений относительно медианы. Децильное отношение - 15,9."
   ]
  },
  {
   "cell_type": "markdown",
   "metadata": {},
   "source": [
    "## Рассмотрим только изменяющиеся показатели"
   ]
  },
  {
   "cell_type": "code",
   "execution_count": 277,
   "metadata": {},
   "outputs": [
    {
     "name": "stdout",
     "output_type": "stream",
     "text": [
      "<class 'pandas.core.frame.DataFrame'>\n",
      "Index: 15029 entries, 0 to 15028\n",
      "Data columns (total 60 columns):\n",
      " #   Column                             Non-Null Count  Dtype  \n",
      "---  ------                             --------------  -----  \n",
      " 0   manufacturer                       15029 non-null  object \n",
      " 1   model                              15029 non-null  object \n",
      " 2   year                               15029 non-null  int64  \n",
      " 3   price                              15029 non-null  int64  \n",
      " 4   URL                                15029 non-null  object \n",
      " 5   vehicle_passport                   11110 non-null  object \n",
      " 6   owners                             10948 non-null  object \n",
      " 7   wanted                             11104 non-null  object \n",
      " 8   limitations                        11104 non-null  object \n",
      " 9   city                               15029 non-null  object \n",
      " 10  engine                             15019 non-null  object \n",
      " 11  power                              14819 non-null  object \n",
      " 12  transmission                       15011 non-null  object \n",
      " 13  drive                              14898 non-null  object \n",
      " 14  body                               7264 non-null   object \n",
      " 15  color                              14747 non-null  object \n",
      " 16  odometer                           14811 non-null  object \n",
      " 17  drive_hand                         14988 non-null  object \n",
      " 18  generation                         13728 non-null  object \n",
      " 19  configuration                      6677 non-null   object \n",
      " 20  flags                              243 non-null    object \n",
      " 21  VIN                                1614 non-null   object \n",
      " 22  power_matches_with_passport        11062 non-null  object \n",
      " 23  engine_liters_match_with_passport  11062 non-null  object \n",
      " 24  color_matches_with_passport        11062 non-null  object \n",
      " 25  year_matches_with_passport         11062 non-null  object \n",
      " 26  model_matches_with_passport        11062 non-null  object \n",
      " 27  owner_count                        10948 non-null  float64\n",
      " 28  is_wanted                          11104 non-null  object \n",
      " 29  has_limitations                    15029 non-null  bool   \n",
      " 30  engine_volume_liters               14793 non-null  float64\n",
      " 31  petrol_type                        14747 non-null  object \n",
      " 32  has_gas_cylinder                   15019 non-null  object \n",
      " 33  is_hybrid                          15019 non-null  object \n",
      " 34  is_electric                        15019 non-null  object \n",
      " 35  power_in_hp                        14819 non-null  float64\n",
      " 36  no_milage_in_russia                15029 non-null  bool   \n",
      " 37  mileage                            14811 non-null  float64\n",
      " 38  docs_ok                            15029 non-null  bool   \n",
      " 39  need_fix                           15029 non-null  bool   \n",
      " 40  is_sport_line                      8627 non-null   object \n",
      " 41  is_crossover                       15029 non-null  bool   \n",
      " 42  age                                15029 non-null  object \n",
      " 43  law                                15029 non-null  bool   \n",
      " 44  mileage_per_year                   14811 non-null  float64\n",
      " 45  color_group                        14747 non-null  object \n",
      " 46  is_manual_transmission             15029 non-null  int64  \n",
      " 47  is_diesel                          15029 non-null  int64  \n",
      " 48  law_int                            15029 non-null  int64  \n",
      " 49  sport_int                          15029 non-null  int64  \n",
      " 50  crossover_int                      15029 non-null  int64  \n",
      " 51  manufacturer_Audi                  15029 non-null  int32  \n",
      " 52  manufacturer_BMW                   15029 non-null  int32  \n",
      " 53  manufacturer_Mercedes-Benz         15029 non-null  int32  \n",
      " 54  color_gr__black                    15029 non-null  int32  \n",
      " 55  color_gr__blue_brown               15029 non-null  int32  \n",
      " 56  color_gr__grey_silver              15029 non-null  int32  \n",
      " 57  color_gr__other                    15029 non-null  int32  \n",
      " 58  color_gr__red                      15029 non-null  int32  \n",
      " 59  color_gr__white                    15029 non-null  int32  \n",
      "dtypes: bool(6), float64(5), int32(9), int64(7), object(33)\n",
      "memory usage: 5.9+ MB\n"
     ]
    }
   ],
   "source": [
    "data.info()"
   ]
  },
  {
   "cell_type": "code",
   "execution_count": 278,
   "metadata": {},
   "outputs": [],
   "source": [
    "import statsmodels.api as sm\n",
    "\n",
    "y = data_cleaned['price']\n",
    "x_mult = data_cleaned[independent_vars]\n",
    "x_mult_constant = sm.add_constant(x_mult)"
   ]
  },
  {
   "cell_type": "code",
   "execution_count": 279,
   "metadata": {},
   "outputs": [
    {
     "name": "stdout",
     "output_type": "stream",
     "text": [
      "4172  автомобилей исключено из  15029\n",
      "                            OLS Regression Results                            \n",
      "==============================================================================\n",
      "Dep. Variable:                  price   R-squared:                       0.464\n",
      "Model:                            OLS   Adj. R-squared:                  0.464\n",
      "Method:                 Least Squares   F-statistic:                     1879.\n",
      "Date:                Sun, 25 Feb 2024   Prob (F-statistic):               0.00\n",
      "Time:                        23:39:55   Log-Likelihood:            -1.7624e+05\n",
      "No. Observations:               10857   AIC:                         3.525e+05\n",
      "Df Residuals:                   10851   BIC:                         3.525e+05\n",
      "Df Model:                           5                                         \n",
      "Covariance Type:            nonrobust                                         \n",
      "===============================================================================\n",
      "                  coef    std err          t      P>|t|      [0.025      0.975]\n",
      "-------------------------------------------------------------------------------\n",
      "const       -3.019e+08   1.14e+07    -26.413      0.000   -3.24e+08   -2.79e+08\n",
      "mileage        -9.4947      0.383    -24.772      0.000     -10.246      -8.743\n",
      "law_int     -1.033e+06   9.15e+04    -11.286      0.000   -1.21e+06   -8.53e+05\n",
      "owner_count -5.345e+04   1.31e+04     -4.071      0.000   -7.92e+04   -2.77e+04\n",
      "year         1.529e+05   5658.702     27.026      0.000    1.42e+05    1.64e+05\n",
      "is_new       8.809e+06   2.07e+05     42.534      0.000     8.4e+06    9.22e+06\n",
      "==============================================================================\n",
      "Omnibus:                     9389.900   Durbin-Watson:                   1.490\n",
      "Prob(Omnibus):                  0.000   Jarque-Bera (JB):           581405.270\n",
      "Skew:                           3.843   Prob(JB):                         0.00\n",
      "Kurtosis:                      38.017   Cond. No.                     7.81e+07\n",
      "==============================================================================\n",
      "\n",
      "Notes:\n",
      "[1] Standard Errors assume that the covariance matrix of the errors is correctly specified.\n",
      "[2] The condition number is large, 7.81e+07. This might indicate that there are\n",
      "strong multicollinearity or other numerical problems.\n",
      "R^2 = 0.463996\n",
      "F-test significance = 0.000000\n",
      "Статистически значимые параметры модели: ['const' 'mileage' 'law_int' 'owner_count' 'year' 'is_new']\n",
      "Статистически не значимые параметры модели: []\n",
      "Y = -301857105.713701 +\n",
      "-9.49 * mileage + \n",
      "-1032612.66 * law_int + \n",
      "-53450.11 * owner_count + \n",
      "152932.73 * year + \n",
      "8809467.64 * is_new\n"
     ]
    }
   ],
   "source": [
    "independent_vars =[ 'mileage', 'law_int', 'owner_count', 'year', 'is_new']\n",
    "\n",
    "shape_0_prev = data.shape[0]\n",
    "\n",
    "data_cleaned = data.dropna(subset=[\n",
    "'year',\n",
    "'mileage',\n",
    "'law',\n",
    "'owner_count',\n",
    "])\n",
    "\n",
    "data_cleaned = data_cleaned.copy()\n",
    "data_cleaned['is_new'] = data['mileage'].apply(lambda x: 1 if x == 0 else 0)\n",
    "\n",
    "print(shape_0_prev - data_cleaned.shape[0], ' автомобилей исключено из ', shape_0_prev)\n",
    "\n",
    "y = data_cleaned['price']\n",
    "x_mult = data_cleaned[independent_vars]\n",
    "x_mult_constant = sm.add_constant(x_mult)\n",
    "\n",
    "model2 = sm.OLS(y, x_mult_constant).fit()\n",
    "print(model2.summary())\n",
    "\n",
    "print('R^2 = {:f}'.format(model2.rsquared))\n",
    "print('F-test significance = {:f}'.format(model2.f_pvalue))\n",
    "print(f'Статистически значимые параметры модели: {model2.pvalues[model2.pvalues < 0.05].index.values}')\n",
    "print(f'Статистически не значимые параметры модели: {model2.pvalues[model2.pvalues > 0.05].index.values}')\n",
    "l = []\n",
    "for (param, index) in zip(model2.params[1:], model2.params.index[1:]):\n",
    "    l.append('{:.2f} * {}'.format(param, index))\n",
    "\n",
    "print('Y = {:2f} +\\n{}'.format(model2.params.iloc[0], ' + \\n'.join(l)))"
   ]
  },
  {
   "cell_type": "markdown",
   "metadata": {},
   "source": [
    "1. $R^2$ = 0.463996 (46%), что означает, что 46% дисперсии зависимой переменной (цены) объясняется\n",
    "независимыми переменными, использованными в модели.\n",
    "2. Значение F-теста (F-test significance) равно 0.000000, что может указывать на то, что модель в целом\n",
    "значима.\n",
    "3. Коэффициенты при различных переменных указывают на их влияние на цену автомобиля:\n",
    "- Mileage (Пробег): Коэффициент -9.49. Это означает, что с увеличением пробега автомобиля на 1\n",
    "километр, его цена снижается на 9.49 единиц.\n",
    "- Law Int (Проблемы с законом): Коэффициент -1032612.66. Если у автомобиля проблемы с законом, его цена\n",
    "снижается на 1032612.66 единиц.\n",
    "- Owner Count (Количество владельцев): Коэффициент -53450.11. С увеличением количества\n",
    "владельцев на 1, цена автомобиля снижается на 53450.11 единиц.\n",
    "- Year (Год выпуска): Коэффициент 152932.73. С увеличением года выпуска на 1, цена автомобиля\n",
    "повышается на 152932.73 единицы.\n",
    "- Is New (Новый автомобиль): Коэффициент 8809467.64. Новизна автомобиля увеличивают его цену на 8809467.64 единиц."
   ]
  },
  {
   "cell_type": "markdown",
   "metadata": {},
   "source": [
    "## Добавим данные о двигателе, кузове, топливе"
   ]
  },
  {
   "cell_type": "code",
   "execution_count": 280,
   "metadata": {},
   "outputs": [
    {
     "name": "stdout",
     "output_type": "stream",
     "text": [
      "9081  автомобилей исключено из  15029\n",
      "                            OLS Regression Results                            \n",
      "==============================================================================\n",
      "Dep. Variable:                  price   R-squared:                       0.588\n",
      "Model:                            OLS   Adj. R-squared:                  0.587\n",
      "Method:                 Least Squares   F-statistic:                     1210.\n",
      "Date:                Sun, 25 Feb 2024   Prob (F-statistic):               0.00\n",
      "Time:                        23:39:55   Log-Likelihood:                -95541.\n",
      "No. Observations:                5948   AIC:                         1.911e+05\n",
      "Df Residuals:                    5940   BIC:                         1.912e+05\n",
      "Df Model:                           7                                         \n",
      "Covariance Type:            nonrobust                                         \n",
      "========================================================================================\n",
      "                           coef    std err          t      P>|t|      [0.025      0.975]\n",
      "----------------------------------------------------------------------------------------\n",
      "const                -1.255e+08   1.23e+07    -10.200      0.000    -1.5e+08   -1.01e+08\n",
      "mileage                 -6.9526      0.406    -17.104      0.000      -7.749      -6.156\n",
      "is_diesel              4.61e-05   4.52e-06     10.200      0.000    3.72e-05     5.5e-05\n",
      "sport_int              9.33e+05   1.86e+05      5.013      0.000    5.68e+05     1.3e+06\n",
      "engine_volume_liters -6.101e+05   7.13e+04     -8.557      0.000    -7.5e+05    -4.7e+05\n",
      "power_in_hp           1.925e+04    737.311     26.113      0.000    1.78e+04    2.07e+04\n",
      "crossover_int         7.924e+05   6.81e+04     11.636      0.000    6.59e+05    9.26e+05\n",
      "owner_count          -1.489e+05   1.37e+04    -10.853      0.000   -1.76e+05   -1.22e+05\n",
      "year                  6.333e+04   6096.075     10.388      0.000    5.14e+04    7.53e+04\n",
      "==============================================================================\n",
      "Omnibus:                     3373.061   Durbin-Watson:                   1.009\n",
      "Prob(Omnibus):                  0.000   Jarque-Bera (JB):            46217.816\n",
      "Skew:                           2.437   Prob(JB):                         0.00\n",
      "Kurtosis:                      15.756   Cond. No.                     8.93e+20\n",
      "==============================================================================\n",
      "\n",
      "Notes:\n",
      "[1] Standard Errors assume that the covariance matrix of the errors is correctly specified.\n",
      "[2] The smallest eigenvalue is 2.83e-28. This might indicate that there are\n",
      "strong multicollinearity problems or that the design matrix is singular.\n",
      "R^2 = 0.587853\n",
      "F-test significance = 0.000000\n",
      "Статистически значимые параметры модели: ['const' 'mileage' 'is_diesel' 'sport_int' 'engine_volume_liters'\n",
      " 'power_in_hp' 'crossover_int' 'owner_count' 'year']\n",
      "Статистически не значимые параметры модели: []\n",
      "Y = -125542497.834821 +\n",
      "-6.95 * mileage + \n",
      "0.00 * is_diesel + \n",
      "932976.45 * sport_int + \n",
      "-610097.95 * engine_volume_liters + \n",
      "19253.33 * power_in_hp + \n",
      "792425.99 * crossover_int + \n",
      "-148904.80 * owner_count + \n",
      "63328.79 * year\n"
     ]
    }
   ],
   "source": [
    "independent_vars =[ 'mileage', 'is_diesel', 'sport_int', 'engine_volume_liters',\n",
    "     'power_in_hp', 'crossover_int', 'owner_count', 'year']\n",
    "\n",
    "shape_0_prev = data.shape[0]\n",
    "\n",
    "data_cleaned = data.dropna(subset=[\n",
    "'year',\n",
    "'mileage',\n",
    "'petrol_type',\n",
    "'is_sport_line',\n",
    "'engine_volume_liters',\n",
    "'power_in_hp',\n",
    "'is_crossover',\n",
    "'owner_count',\n",
    "])\n",
    "\n",
    "print(shape_0_prev - data_cleaned.shape[0], ' автомобилей исключено из ', shape_0_prev)\n",
    "\n",
    "\n",
    "\n",
    "y = data_cleaned['price']\n",
    "x_mult = data_cleaned[independent_vars]\n",
    "x_mult_constant = sm.add_constant(x_mult)\n",
    "\n",
    "model2 = sm.OLS(y, x_mult_constant).fit()\n",
    "print(model2.summary())\n",
    "\n",
    "print('R^2 = {:f}'.format(model2.rsquared))\n",
    "print('F-test significance = {:f}'.format(model2.f_pvalue))\n",
    "print(f'Статистически значимые параметры модели: {model2.pvalues[model2.pvalues < 0.05].index.values}')\n",
    "print(f'Статистически не значимые параметры модели: {model2.pvalues[model2.pvalues > 0.05].index.values}')\n",
    "l = []\n",
    "for (param, index) in zip(model2.params[1:], model2.params.index[1:]):\n",
    "    l.append('{:.2f} * {}'.format(param, index))\n",
    "\n",
    "print('Y = {:2f} +\\n{}'.format(model2.params.iloc[0], ' + \\n'.join(l)))"
   ]
  },
  {
   "cell_type": "markdown",
   "metadata": {},
   "source": [
    "1. $R^2$ = 0.587853, что означает, что 58.8% дисперсии зависимой переменной (Y) объясняется независимыми переменными, использованными в модели.\n",
    "\n",
    "2. Значение F-теста (F-test significance) равно 0.000000, что может указывать на то, что модель в целом значима.\n",
    "\n",
    "3. Коэффициенты при различных переменных указывают на их влияние на цену автомобиля:\n",
    "\n",
    "- Mileage (Пробег): Коэффициент -6.95. Это означает, что с увеличением пробега автомобиля на 1 километр, его цена снижается на 6.95 единиц.\n",
    "- Is Diesel (Дизельный двигатель): Коэффициент 0.00. Поскольку коэффициент равен нулю, тип двигателя (дизельный или бензиновый) не оказывает статистически значимого влияния на цену автомобиля.\n",
    "- Sport Int (Спортивный класс): Коэффициент 932976.45. Принадлежность авто к спортивному классу связана с увеличением цены автомобиля на 932976.45 единиц.\n",
    "- Engine Volume Liters (Объем двигателя в литрах): Коэффициент -610097.95. С увеличением объема двигателя на 1 литр, цена автомобиля снижается на 610097.95 единиц.\n",
    "- Power in HP (Мощность в лошадиных силах): Коэффициент 19253.33. При увеличении мощности на 1 лошадиную силу, цена автомобиля повышается на 19253.33 единицы.\n",
    "- Crossover Int (Кроссовер): Коэффициент 792425.99. Принадлежность авто к кроссоверному типу связана с увеличением его цены на 792425.99 единиц.\n",
    "- Owner Count (Количество владельцев): Коэффициент -148904.80. С увеличением количества владельцев на 1, цена автомобиля снижается на 148904.80 единиц.\n",
    "- Year (Год выпуска): Коэффициент 63328.79. С увеличением года выпуска на 1, цена автомобиля повышается на 63328.79 единиц."
   ]
  },
  {
   "cell_type": "markdown",
   "metadata": {},
   "source": [
    "## Добавим информацию о КПП"
   ]
  },
  {
   "cell_type": "code",
   "execution_count": 281,
   "metadata": {},
   "outputs": [
    {
     "name": "stdout",
     "output_type": "stream",
     "text": [
      "9081  автомобилей исключено из  15029\n",
      "                            OLS Regression Results                            \n",
      "==============================================================================\n",
      "Dep. Variable:                  price   R-squared:                       0.624\n",
      "Model:                            OLS   Adj. R-squared:                  0.624\n",
      "Method:                 Least Squares   F-statistic:                     1097.\n",
      "Date:                Sun, 25 Feb 2024   Prob (F-statistic):               0.00\n",
      "Time:                        23:39:55   Log-Likelihood:                -95265.\n",
      "No. Observations:                5948   AIC:                         1.906e+05\n",
      "Df Residuals:                    5938   BIC:                         1.906e+05\n",
      "Df Model:                           9                                         \n",
      "Covariance Type:            nonrobust                                         \n",
      "==========================================================================================\n",
      "                             coef    std err          t      P>|t|      [0.025      0.975]\n",
      "------------------------------------------------------------------------------------------\n",
      "const                  -3.341e+08   1.46e+07    -22.851      0.000   -3.63e+08   -3.05e+08\n",
      "mileage                   -5.9551      0.390    -15.256      0.000      -6.720      -5.190\n",
      "is_diesel                  0.0001   5.63e-06     22.851      0.000       0.000       0.000\n",
      "law_int                -6.782e+05   9.54e+04     -7.113      0.000   -8.65e+05   -4.91e+05\n",
      "sport_int               7.034e+05   1.78e+05      3.952      0.000    3.54e+05    1.05e+06\n",
      "engine_volume_liters   -2.764e+05   6.96e+04     -3.974      0.000   -4.13e+05    -1.4e+05\n",
      "power_in_hp             1.758e+04    707.936     24.830      0.000    1.62e+04     1.9e+04\n",
      "crossover_int           7.912e+05   6.51e+04     12.159      0.000    6.64e+05    9.19e+05\n",
      "owner_count            -1.049e+05   1.32e+04     -7.924      0.000   -1.31e+05   -7.89e+04\n",
      "is_manual_transmission  3.103e+06   1.38e+05     22.529      0.000    2.83e+06    3.37e+06\n",
      "year                    1.668e+05   7244.024     23.022      0.000    1.53e+05    1.81e+05\n",
      "==============================================================================\n",
      "Omnibus:                     3461.664   Durbin-Watson:                   1.144\n",
      "Prob(Omnibus):                  0.000   Jarque-Bera (JB):            53535.099\n",
      "Skew:                           2.480   Prob(JB):                         0.00\n",
      "Kurtosis:                      16.835   Cond. No.                     1.57e+22\n",
      "==============================================================================\n",
      "\n",
      "Notes:\n",
      "[1] Standard Errors assume that the covariance matrix of the errors is correctly specified.\n",
      "[2] The smallest eigenvalue is 9.16e-31. This might indicate that there are\n",
      "strong multicollinearity problems or that the design matrix is singular.\n",
      "R^2 = 0.624347\n",
      "F-test significance = 0.000000\n",
      "Статистически значимые параметры модели: ['const' 'mileage' 'is_diesel' 'law_int' 'sport_int'\n",
      " 'engine_volume_liters' 'power_in_hp' 'crossover_int' 'owner_count'\n",
      " 'is_manual_transmission' 'year']\n",
      "Статистически не значимые параметры модели: []\n",
      "Y = -334148423.593180 +\n",
      "-5.96 * mileage + \n",
      "0.00 * is_diesel + \n",
      "-678205.65 * law_int + \n",
      "703391.38 * sport_int + \n",
      "-276401.57 * engine_volume_liters + \n",
      "17577.72 * power_in_hp + \n",
      "791179.40 * crossover_int + \n",
      "-104861.18 * owner_count + \n",
      "3103190.13 * is_manual_transmission + \n",
      "166770.66 * year\n"
     ]
    }
   ],
   "source": [
    "independent_vars =[ 'mileage', 'is_diesel', 'law_int', 'sport_int', 'engine_volume_liters',\n",
    "     'power_in_hp', 'crossover_int', 'owner_count', \n",
    "      'is_manual_transmission', 'year']\n",
    "\n",
    "shape_0_prev = data.shape[0]\n",
    "\n",
    "data_cleaned = data.dropna(subset=[\n",
    "'year',\n",
    "'mileage',\n",
    "'petrol_type',\n",
    "'law',\n",
    "'is_sport_line',\n",
    "'engine_volume_liters',\n",
    "'power_in_hp',\n",
    "'is_crossover',\n",
    "'owner_count',\n",
    "'transmission'\n",
    "])\n",
    "\n",
    "print(shape_0_prev - data_cleaned.shape[0], ' автомобилей исключено из ', shape_0_prev)\n",
    "\n",
    "\n",
    "\n",
    "y = data_cleaned['price']\n",
    "x_mult = data_cleaned[independent_vars]\n",
    "x_mult_constant = sm.add_constant(x_mult)\n",
    "\n",
    "model2 = sm.OLS(y, x_mult_constant).fit()\n",
    "print(model2.summary())\n",
    "\n",
    "print('R^2 = {:f}'.format(model2.rsquared))\n",
    "print('F-test significance = {:f}'.format(model2.f_pvalue))\n",
    "print(f'Статистически значимые параметры модели: {model2.pvalues[model2.pvalues < 0.05].index.values}')\n",
    "print(f'Статистически не значимые параметры модели: {model2.pvalues[model2.pvalues > 0.05].index.values}')\n",
    "l = []\n",
    "for (param, index) in zip(model2.params[1:], model2.params.index[1:]):\n",
    "    l.append('{:.2f} * {}'.format(param, index))\n",
    "\n",
    "print('Y = {:2f} +\\n{}'.format(model2.params.iloc[0], ' + \\n'.join(l)))"
   ]
  },
  {
   "cell_type": "markdown",
   "metadata": {},
   "source": [
    "1. $R^2$ = 0.624347, что означает, что 62.4% дисперсии зависимой переменной (Y) объясняется независимыми переменными, использованными в модели.\n",
    "\n",
    "2. Значение F-теста (F-test significance) равно 0.000000, что может указывать на то, что модель в целом значима.\n",
    "\n",
    "3. Коэффициенты при различных переменных указывают на их влияние на цену автомобиля:\n",
    "\n",
    "- Mileage (Пробег): Коэффициент -5.96. Это означает, что с увеличением пробега автомобиля на 1 километр, его цена снижается на 5.96 единиц.\n",
    "- Is Diesel (Дизельный двигатель): Коэффициент 0.00. Поскольку коэффициент равен нулю, тип двигателя (дизельный или бензиновый) не оказывает статистически значимого влияния на цену автомобиля.\n",
    "- Law Int (Проблемы с законом): Коэффициент -678205.65. Если автомобиль имеет проблемы с законом, его цена снижается на 678205.65 единиц.\n",
    "- Sport Int (Спортивный класс): Коэффициент 703391.38. Принадлежность автомобиля к кроссоверному классу связано с увеличением цены автомобиля на 703391.38 единиц.\n",
    "- Engine Volume Liters (Объем двигателя в литрах): Коэффициент -276401.57. С увеличением объема двигателя на 1 литр, цена автомобиля снижается на 276401.57 единиц.\n",
    "- Power in HP (Мощность в лошадиных силах): Коэффициент 17577.72. При увеличении мощности на 1 лошадиную силу, цена автомобиля повышается на 17577.72 единиц.\n",
    "- Crossover Int (Кроссовер): Коэффициент 791179.40. Принадлежность автомобиля к кроссоверному типу связано с увеличением его цены на 791179.40 единиц.\n",
    "- Owner Count (Количество владельцев): Коэффициент -104861.18. С увеличением количества владельцев на 1, цена автомобиля снижается на 104861.18 единиц.\n",
    "- Is Manual Transmission (Механическая коробка передач): Коэффициент 3103190.13. Наличие механической коробки передач связано с увеличением цены на 3103190.13 единиц.\n",
    "- Year (Год выпуска): Коэффициент 166770.66. С увеличением года выпуска на 1, цена автомобиля повышается на 166770.66 единиц."
   ]
  },
  {
   "cell_type": "markdown",
   "metadata": {},
   "source": [
    "## Добавим информацию о производителе"
   ]
  },
  {
   "cell_type": "code",
   "execution_count": 282,
   "metadata": {},
   "outputs": [
    {
     "name": "stdout",
     "output_type": "stream",
     "text": [
      "9081  автомобилей исключено из  15029\n",
      "                            OLS Regression Results                            \n",
      "==============================================================================\n",
      "Dep. Variable:                  price   R-squared:                       0.636\n",
      "Model:                            OLS   Adj. R-squared:                  0.635\n",
      "Method:                 Least Squares   F-statistic:                     942.6\n",
      "Date:                Sun, 25 Feb 2024   Prob (F-statistic):               0.00\n",
      "Time:                        23:39:55   Log-Likelihood:                -95172.\n",
      "No. Observations:                5948   AIC:                         1.904e+05\n",
      "Df Residuals:                    5936   BIC:                         1.904e+05\n",
      "Df Model:                          11                                         \n",
      "Covariance Type:            nonrobust                                         \n",
      "==============================================================================================\n",
      "                                 coef    std err          t      P>|t|      [0.025      0.975]\n",
      "----------------------------------------------------------------------------------------------\n",
      "const                      -3.219e+08   1.44e+07    -22.299      0.000    -3.5e+08   -2.94e+08\n",
      "mileage                       -5.9439      0.385    -15.450      0.000      -6.698      -5.190\n",
      "is_diesel                      0.0005   2.05e-05     22.299      0.000       0.000       0.000\n",
      "law_int                     -6.77e+05    9.4e+04     -7.203      0.000   -8.61e+05   -4.93e+05\n",
      "sport_int                   6.047e+05   1.77e+05      3.420      0.001    2.58e+05    9.51e+05\n",
      "engine_volume_liters       -4.391e+05   6.96e+04     -6.313      0.000   -5.75e+05   -3.03e+05\n",
      "power_in_hp                 1.823e+04    699.913     26.047      0.000    1.69e+04    1.96e+04\n",
      "crossover_int               7.417e+05   6.42e+04     11.556      0.000    6.16e+05    8.68e+05\n",
      "owner_count                -1.124e+05    1.3e+04     -8.614      0.000   -1.38e+05   -8.68e+04\n",
      "manufacturer_BMW             6.46e+05   6.92e+04      9.340      0.000     5.1e+05    7.82e+05\n",
      "manufacturer_Mercedes-Benz  9.381e+05   7.07e+04     13.261      0.000    7.99e+05    1.08e+06\n",
      "is_manual_transmission      3.147e+06   1.36e+05     23.166      0.000    2.88e+06    3.41e+06\n",
      "year                        1.606e+05   7152.725     22.455      0.000    1.47e+05    1.75e+05\n",
      "==============================================================================\n",
      "Omnibus:                     3426.718   Durbin-Watson:                   1.180\n",
      "Prob(Omnibus):                  0.000   Jarque-Bera (JB):            53066.042\n",
      "Skew:                           2.444   Prob(JB):                         0.00\n",
      "Kurtosis:                      16.792   Cond. No.                     2.21e+20\n",
      "==============================================================================\n",
      "\n",
      "Notes:\n",
      "[1] Standard Errors assume that the covariance matrix of the errors is correctly specified.\n",
      "[2] The smallest eigenvalue is 4.64e-27. This might indicate that there are\n",
      "strong multicollinearity problems or that the design matrix is singular.\n",
      "R^2 = 0.635935\n",
      "F-test significance = 0.000000\n",
      "Статистически значимые параметры модели: ['const' 'mileage' 'is_diesel' 'law_int' 'sport_int'\n",
      " 'engine_volume_liters' 'power_in_hp' 'crossover_int' 'owner_count'\n",
      " 'manufacturer_BMW' 'manufacturer_Mercedes-Benz' 'is_manual_transmission'\n",
      " 'year']\n",
      "Статистически не значимые параметры модели: []\n",
      "Y = -321944291.009750 +\n",
      "-5.94 * mileage + \n",
      "0.00 * is_diesel + \n",
      "-676981.01 * law_int + \n",
      "604690.41 * sport_int + \n",
      "-439099.39 * engine_volume_liters + \n",
      "18230.77 * power_in_hp + \n",
      "741719.41 * crossover_int + \n",
      "-112366.39 * owner_count + \n",
      "646024.08 * manufacturer_BMW + \n",
      "938110.94 * manufacturer_Mercedes-Benz + \n",
      "3146945.09 * is_manual_transmission + \n",
      "160614.15 * year\n"
     ]
    }
   ],
   "source": [
    "independent_vars =[ 'mileage', 'is_diesel', 'law_int', 'sport_int', 'engine_volume_liters',\n",
    "     'power_in_hp', 'crossover_int', 'owner_count', \n",
    "     'manufacturer_BMW', 'manufacturer_Mercedes-Benz', 'is_manual_transmission', 'year']\n",
    "\n",
    "shape_0_prev = data.shape[0]\n",
    "\n",
    "data_cleaned = data.dropna(subset=[\n",
    "'year',\n",
    "'mileage',\n",
    "'petrol_type',\n",
    "'law',\n",
    "'is_sport_line',\n",
    "'engine_volume_liters',\n",
    "'power_in_hp',\n",
    "'is_crossover',\n",
    "'owner_count',\n",
    "'manufacturer',\n",
    "'transmission'\n",
    "])\n",
    "\n",
    "print(shape_0_prev - data_cleaned.shape[0], ' автомобилей исключено из ', shape_0_prev)\n",
    "\n",
    "\n",
    "\n",
    "y = data_cleaned['price']\n",
    "x_mult = data_cleaned[independent_vars]\n",
    "x_mult_constant = sm.add_constant(x_mult)\n",
    "\n",
    "model2 = sm.OLS(y, x_mult_constant).fit()\n",
    "print(model2.summary())\n",
    "\n",
    "print('R^2 = {:f}'.format(model2.rsquared))\n",
    "print('F-test significance = {:f}'.format(model2.f_pvalue))\n",
    "print(f'Статистически значимые параметры модели: {model2.pvalues[model2.pvalues < 0.05].index.values}')\n",
    "print(f'Статистически не значимые параметры модели: {model2.pvalues[model2.pvalues > 0.05].index.values}')\n",
    "l = []\n",
    "for (param, index) in zip(model2.params[1:], model2.params.index[1:]):\n",
    "    l.append('{:.2f} * {}'.format(param, index))\n",
    "\n",
    "print('Y = {:2f} +\\n{}'.format(model2.params.iloc[0], ' + \\n'.join(l)))"
   ]
  },
  {
   "cell_type": "markdown",
   "metadata": {},
   "source": [
    "1. $R^2$ = 0.635935 (63,5%), что означает, что 63,5% дисперсии зависимой переменной (цены)\n",
    "объясняется независимыми переменными, использованными в модели.\n",
    "2. Значение F-теста (F-test significance) равно 0.000000, что может указывать на то, что модель в целом\n",
    "значима.\n",
    "3. Коэффициенты при различных переменных указывают на их влияние на цену автомобиля:\n",
    "- Mileage (Пробег): Коэффициент -5.94. Это означает, что с увеличением пробега автомобиля на 1\n",
    "километр, его цена снижается на 5.94 рубля.\n",
    "- Is Diesel (Дизельный двигатель): Коэффициент 0.00. Поскольку коэффициент равен нулю, тип\n",
    "двигателя (дизельный или бензиновый) не оказывает статистически значимого влияния на цену\n",
    "автомобиля.\n",
    "- Law Int (Проблемы с законом): Коэффициент -596479.13. Если автомобиль имеет проблемы с законом, его стоимость\n",
    "снижается на 596479.13 рублей.\n",
    "- Sport Int (Спортивная линейка): Коэффициент 604690.41. Принадлежность автомобиля к спортивной линейке делает автомобиль дороже на 600 тысяч рублей.\n",
    "- Engine Volume Liters (Объем двигателя в литрах): Коэффициент -439099.39. С увеличением объема\n",
    "двигателя на 1 литр, цена автомобиля снижается на -439099.39 рублей.\n",
    "- Power in HP (Мощность в лошадиных силах): Коэффициент 18230.77. При увеличении мощности на 1\n",
    "лошадиную силу, цена автомобиля повышается на 18230.77 единиц.\n",
    "- Crossover Int (Кроссовер): Коэффициент 741719.41. Принадлежность автомобиля к кроссоверному\n",
    "типу связано с увеличением его цены на 741719.41 рублей.\n",
    "- Owner Count (Количество владельцев): Коэффициент -112366.39. С увеличением количества\n",
    "владельцев на 1, цена автомобиля снижается на -112366.39 рублей.\n",
    "- Manufacturer (Производитель): Для производителей (BMW: 646024.08, Mercedes-Benz: 938110.94) указаны соответствующие коэффициенты, по сравнению с референтной группой (Audi).\n",
    "- Is Manual Transmission (Механическая коробка передач): Коэффициент 3146945.09. Наличие\n",
    "механической коробки передач связано с увеличением цены на 3146945.09 единицы.\n",
    "- Year (Год выпуска): Коэффициент 160614.15. С увеличением года выпуска на 1, цена автомобиля\n",
    "повышается на 160614.15 единицы.\n"
   ]
  },
  {
   "cell_type": "markdown",
   "metadata": {},
   "source": [
    "## Добавим цвет"
   ]
  },
  {
   "cell_type": "code",
   "execution_count": 297,
   "metadata": {},
   "outputs": [
    {
     "name": "stdout",
     "output_type": "stream",
     "text": [
      "9128  автомобилей исключено из  15029\n",
      "                            OLS Regression Results                            \n",
      "==============================================================================\n",
      "Dep. Variable:                  price   R-squared:                       0.637\n",
      "Model:                            OLS   Adj. R-squared:                  0.637\n",
      "Method:                 Least Squares   F-statistic:                     646.7\n",
      "Date:                Sun, 25 Feb 2024   Prob (F-statistic):               0.00\n",
      "Time:                        23:45:38   Log-Likelihood:                -94406.\n",
      "No. Observations:                5901   AIC:                         1.888e+05\n",
      "Df Residuals:                    5884   BIC:                         1.890e+05\n",
      "Df Model:                          16                                         \n",
      "Covariance Type:            nonrobust                                         \n",
      "==============================================================================================\n",
      "                                 coef    std err          t      P>|t|      [0.025      0.975]\n",
      "----------------------------------------------------------------------------------------------\n",
      "const                      -3.207e+08   1.48e+07    -21.679      0.000    -3.5e+08   -2.92e+08\n",
      "mileage                       -6.1234      0.391    -15.665      0.000      -6.890      -5.357\n",
      "is_diesel                     -0.0002   8.15e-06    -21.679      0.000      -0.000      -0.000\n",
      "law_int                    -6.462e+05   9.48e+04     -6.817      0.000   -8.32e+05    -4.6e+05\n",
      "sport_int                   6.153e+05   1.77e+05      3.473      0.001    2.68e+05    9.63e+05\n",
      "engine_volume_liters       -4.752e+05   7.02e+04     -6.771      0.000   -6.13e+05   -3.38e+05\n",
      "power_in_hp                 1.818e+04    701.950     25.895      0.000    1.68e+04    1.96e+04\n",
      "crossover_int                7.63e+05   6.44e+04     11.857      0.000    6.37e+05    8.89e+05\n",
      "owner_count                -1.141e+05   1.32e+04     -8.645      0.000    -1.4e+05   -8.82e+04\n",
      "manufacturer_BMW            6.402e+05   6.94e+04      9.227      0.000    5.04e+05    7.76e+05\n",
      "manufacturer_Mercedes-Benz  9.376e+05    7.1e+04     13.208      0.000    7.98e+05    1.08e+06\n",
      "color_gr__blue_brown       -3.297e+05   8.47e+04     -3.891      0.000   -4.96e+05   -1.64e+05\n",
      "color_gr__grey_silver      -3.255e+04   8.15e+04     -0.399      0.690   -1.92e+05    1.27e+05\n",
      "color_gr__other            -3.627e+04    1.3e+05     -0.280      0.780    -2.9e+05    2.18e+05\n",
      "color_gr__red              -3.503e+05   1.53e+05     -2.295      0.022    -6.5e+05   -5.11e+04\n",
      "color_gr__white             -3.94e+05   7.99e+04     -4.934      0.000   -5.51e+05   -2.37e+05\n",
      "is_manual_transmission      3.162e+06   1.37e+05     23.013      0.000    2.89e+06    3.43e+06\n",
      "year                        1.601e+05   7326.618     21.857      0.000    1.46e+05    1.74e+05\n",
      "==============================================================================\n",
      "Omnibus:                     3386.929   Durbin-Watson:                   1.192\n",
      "Prob(Omnibus):                  0.000   Jarque-Bera (JB):            51762.813\n",
      "Skew:                           2.436   Prob(JB):                         0.00\n",
      "Kurtosis:                      16.667   Cond. No.                     8.17e+19\n",
      "==============================================================================\n",
      "\n",
      "Notes:\n",
      "[1] Standard Errors assume that the covariance matrix of the errors is correctly specified.\n",
      "[2] The smallest eigenvalue is 3.33e-26. This might indicate that there are\n",
      "strong multicollinearity problems or that the design matrix is singular.\n",
      "R^2 = 0.637493\n",
      "F-test significance = 0.000000\n",
      "Статистически значимые параметры модели: ['const' 'mileage' 'is_diesel' 'law_int' 'sport_int'\n",
      " 'engine_volume_liters' 'power_in_hp' 'crossover_int' 'owner_count'\n",
      " 'manufacturer_BMW' 'manufacturer_Mercedes-Benz' 'color_gr__blue_brown'\n",
      " 'color_gr__red' 'color_gr__white' 'is_manual_transmission' 'year']\n",
      "Статистически не значимые параметры модели: ['color_gr__grey_silver' 'color_gr__other']\n",
      "Y = -320733165.509562 +\n",
      "-6.12 * mileage + \n",
      "-0.00 * is_diesel + \n",
      "-646168.62 * law_int + \n",
      "615317.96 * sport_int + \n",
      "-475166.22 * engine_volume_liters + \n",
      "18176.69 * power_in_hp + \n",
      "763042.96 * crossover_int + \n",
      "-114052.63 * owner_count + \n",
      "640163.55 * manufacturer_BMW + \n",
      "937564.17 * manufacturer_Mercedes-Benz + \n",
      "-329726.28 * color_gr__blue_brown + \n",
      "-32548.47 * color_gr__grey_silver + \n",
      "-36273.16 * color_gr__other + \n",
      "-350333.29 * color_gr__red + \n",
      "-394017.11 * color_gr__white + \n",
      "3161779.23 * is_manual_transmission + \n",
      "160136.06 * year\n"
     ]
    }
   ],
   "source": [
    "independent_vars =[ 'mileage', 'is_diesel', 'law_int', 'sport_int', 'engine_volume_liters',\n",
    "     'power_in_hp', 'crossover_int', 'owner_count', \n",
    "     'manufacturer_BMW', 'manufacturer_Mercedes-Benz',\n",
    "     'color_gr__blue_brown', 'color_gr__grey_silver',\n",
    "     'color_gr__other', 'color_gr__red', 'color_gr__white', 'is_manual_transmission', 'year']\n",
    "\n",
    "shape_0_prev = data.shape[0]\n",
    "\n",
    "data_cleaned = data.dropna(subset=[\n",
    "'year',\n",
    "'mileage',\n",
    "'petrol_type',\n",
    "'law',\n",
    "'is_sport_line',\n",
    "'engine_volume_liters',\n",
    "'power_in_hp',\n",
    "'is_crossover',\n",
    "'owner_count',\n",
    "'manufacturer',\n",
    "'color',\n",
    "'transmission'\n",
    "])\n",
    "     \n",
    "print(shape_0_prev - data_cleaned.shape[0], ' автомобилей исключено из ', shape_0_prev)\n",
    "\n",
    "y = data_cleaned['price']\n",
    "x_mult = data_cleaned[independent_vars]\n",
    "x_mult_constant = sm.add_constant(x_mult)\n",
    "\n",
    "model2 = sm.OLS(y, x_mult_constant).fit()\n",
    "print(model2.summary())\n",
    "\n",
    "print('R^2 = {:f}'.format(model2.rsquared))\n",
    "print('F-test significance = {:f}'.format(model2.f_pvalue))\n",
    "print(f'Статистически значимые параметры модели: {model2.pvalues[model2.pvalues < 0.05].index.values}')\n",
    "print(f'Статистически не значимые параметры модели: {model2.pvalues[model2.pvalues > 0.05].index.values}')\n",
    "l = []\n",
    "for (param, index) in zip(model2.params[1:], model2.params.index[1:]):\n",
    "    l.append('{:.2f} * {}'.format(param, index))\n",
    "\n",
    "print('Y = {:2f} +\\n{}'.format(model2.params.iloc[0], ' + \\n'.join(l)))"
   ]
  },
  {
   "cell_type": "code",
   "execution_count": 298,
   "metadata": {},
   "outputs": [
    {
     "data": {
      "text/latex": [
       "$R^2$ = 0.637493"
      ],
      "text/plain": [
       "<IPython.core.display.Latex object>"
      ]
     },
     "metadata": {},
     "output_type": "display_data"
    },
    {
     "data": {
      "text/latex": [
       "F-test significance = 0.000000"
      ],
      "text/plain": [
       "<IPython.core.display.Latex object>"
      ]
     },
     "metadata": {},
     "output_type": "display_data"
    }
   ],
   "source": [
    "display(Latex('$R^2$ = {:f}'.format(model2.rsquared)))\n",
    "display(Latex('F-test significance = {:f}'.format(model2.f_pvalue)))"
   ]
  },
  {
   "cell_type": "markdown",
   "metadata": {},
   "source": [
    "Модель статистически значима. Объясняет 63% вариации значений зависимой переменной."
   ]
  },
  {
   "cell_type": "code",
   "execution_count": 299,
   "metadata": {},
   "outputs": [
    {
     "data": {
      "text/latex": [
       "Статистически значимые параметры модели:"
      ],
      "text/plain": [
       "<IPython.core.display.Latex object>"
      ]
     },
     "metadata": {},
     "output_type": "display_data"
    },
    {
     "data": {
      "text/latex": [
       "const"
      ],
      "text/plain": [
       "<IPython.core.display.Latex object>"
      ]
     },
     "metadata": {},
     "output_type": "display_data"
    },
    {
     "data": {
      "text/latex": [
       "mileage"
      ],
      "text/plain": [
       "<IPython.core.display.Latex object>"
      ]
     },
     "metadata": {},
     "output_type": "display_data"
    },
    {
     "data": {
      "text/latex": [
       "is_diesel"
      ],
      "text/plain": [
       "<IPython.core.display.Latex object>"
      ]
     },
     "metadata": {},
     "output_type": "display_data"
    },
    {
     "data": {
      "text/latex": [
       "law_int"
      ],
      "text/plain": [
       "<IPython.core.display.Latex object>"
      ]
     },
     "metadata": {},
     "output_type": "display_data"
    },
    {
     "data": {
      "text/latex": [
       "sport_int"
      ],
      "text/plain": [
       "<IPython.core.display.Latex object>"
      ]
     },
     "metadata": {},
     "output_type": "display_data"
    },
    {
     "data": {
      "text/latex": [
       "engine_volume_liters"
      ],
      "text/plain": [
       "<IPython.core.display.Latex object>"
      ]
     },
     "metadata": {},
     "output_type": "display_data"
    },
    {
     "data": {
      "text/latex": [
       "power_in_hp"
      ],
      "text/plain": [
       "<IPython.core.display.Latex object>"
      ]
     },
     "metadata": {},
     "output_type": "display_data"
    },
    {
     "data": {
      "text/latex": [
       "crossover_int"
      ],
      "text/plain": [
       "<IPython.core.display.Latex object>"
      ]
     },
     "metadata": {},
     "output_type": "display_data"
    },
    {
     "data": {
      "text/latex": [
       "owner_count"
      ],
      "text/plain": [
       "<IPython.core.display.Latex object>"
      ]
     },
     "metadata": {},
     "output_type": "display_data"
    },
    {
     "data": {
      "text/latex": [
       "manufacturer_BMW"
      ],
      "text/plain": [
       "<IPython.core.display.Latex object>"
      ]
     },
     "metadata": {},
     "output_type": "display_data"
    },
    {
     "data": {
      "text/latex": [
       "manufacturer_Mercedes-Benz"
      ],
      "text/plain": [
       "<IPython.core.display.Latex object>"
      ]
     },
     "metadata": {},
     "output_type": "display_data"
    },
    {
     "data": {
      "text/latex": [
       "color_gr__blue_brown"
      ],
      "text/plain": [
       "<IPython.core.display.Latex object>"
      ]
     },
     "metadata": {},
     "output_type": "display_data"
    },
    {
     "data": {
      "text/latex": [
       "color_gr__red"
      ],
      "text/plain": [
       "<IPython.core.display.Latex object>"
      ]
     },
     "metadata": {},
     "output_type": "display_data"
    },
    {
     "data": {
      "text/latex": [
       "color_gr__white"
      ],
      "text/plain": [
       "<IPython.core.display.Latex object>"
      ]
     },
     "metadata": {},
     "output_type": "display_data"
    },
    {
     "data": {
      "text/latex": [
       "is_manual_transmission"
      ],
      "text/plain": [
       "<IPython.core.display.Latex object>"
      ]
     },
     "metadata": {},
     "output_type": "display_data"
    },
    {
     "data": {
      "text/latex": [
       "year"
      ],
      "text/plain": [
       "<IPython.core.display.Latex object>"
      ]
     },
     "metadata": {},
     "output_type": "display_data"
    }
   ],
   "source": [
    "display(Latex('Статистически значимые параметры модели:'))\n",
    "for param in model2.pvalues[model2.pvalues < 0.05].index.values:\n",
    "    display(Latex(param))"
   ]
  },
  {
   "cell_type": "code",
   "execution_count": 300,
   "metadata": {},
   "outputs": [
    {
     "data": {
      "text/latex": [
       "Статистически незначимые параметры модели:"
      ],
      "text/plain": [
       "<IPython.core.display.Latex object>"
      ]
     },
     "metadata": {},
     "output_type": "display_data"
    },
    {
     "data": {
      "text/latex": [
       "color_gr__grey_silver"
      ],
      "text/plain": [
       "<IPython.core.display.Latex object>"
      ]
     },
     "metadata": {},
     "output_type": "display_data"
    },
    {
     "data": {
      "text/latex": [
       "color_gr__other"
      ],
      "text/plain": [
       "<IPython.core.display.Latex object>"
      ]
     },
     "metadata": {},
     "output_type": "display_data"
    }
   ],
   "source": [
    "display(Latex('Статистически незначимые параметры модели:'))\n",
    "for param in model2.pvalues[model2.pvalues >= 0.05].index.values:\n",
    "    display(Latex(param))"
   ]
  },
  {
   "cell_type": "code",
   "execution_count": 301,
   "metadata": {},
   "outputs": [
    {
     "name": "stdout",
     "output_type": "stream",
     "text": [
      "Y = -320733165.509562 +\n",
      "-6.12 * mileage + \n",
      "-0.00 * is_diesel + \n",
      "-646168.62 * law_int + \n",
      "615317.96 * sport_int + \n",
      "-475166.22 * engine_volume_liters + \n",
      "18176.69 * power_in_hp + \n",
      "763042.96 * crossover_int + \n",
      "-114052.63 * owner_count + \n",
      "640163.55 * manufacturer_BMW + \n",
      "937564.17 * manufacturer_Mercedes-Benz + \n",
      "-329726.28 * color_gr__blue_brown + \n",
      "-32548.47 * color_gr__grey_silver + \n",
      "-36273.16 * color_gr__other + \n",
      "-350333.29 * color_gr__red + \n",
      "-394017.11 * color_gr__white + \n",
      "3161779.23 * is_manual_transmission + \n",
      "160136.06 * year\n"
     ]
    }
   ],
   "source": [
    "l = []\n",
    "for (param, index) in zip(model2.params[1:], model2.params.index[1:]):\n",
    "    l.append('{:.2f} * {}'.format(param, index))\n",
    "\n",
    "print('Y = {:2f} +\\n{}'.format(model2.params.iloc[0], ' + \\n'.join(l)))"
   ]
  },
  {
   "cell_type": "markdown",
   "metadata": {},
   "source": [
    "- Пробег (Mileage): Коэффициент -6.12. Это означает, что с увеличением пробега автомобиля на 1 километр, его цена снижается на 6.12 единиц.\n",
    "- Дизельный двигатель (Is Diesel): Коэффициент 0.00. Поскольку коэффициент равен нулю, тип двигателя (дизельный или бензиновый) не оказывает статистически значимого влияния на цену автомобиля.\n",
    "- Проблемы с законом (Law Int): Коэффициент -646168.62. Если у автомобиля проблемы с законом, его цена снижается на 646168.62 единиц.\n",
    "- Спортивный класс (Sport Int): Коэффициент 615317.96. Принадлежность авто к спортивному классу связано с увеличением цены автомобиля на 615317.96 единиц.\n",
    "- Объем двигателя в литрах (Engine Volume Liters): Коэффициент -475166.22. С увеличением объема двигателя на 1 литр, цена автомобиля снижается на 475166.22 единиц.\n",
    "- Мощность в лошадиных силах (Power in HP): Коэффициент 18176.69. При увеличении мощности на 1 лошадиную силу, цена автомобиля повышается на 18176.69 единиц.\n",
    "- Кроссовер (Crossover Int): Коэффициент 763042.96. Принадлежность авто к кроссоверному типу связано с увеличением его цены на 763042.96 единицу.\n",
    "- Количество владельцев (Owner Count): Коэффициент -114052.63. С увеличением количества владельцев на 1, цена автомобиля снижается на 114052.63 единиц.\n",
    "- Производитель (Manufacturer):\n",
    "  - BMW: Коэффициент -71085243.32. Он указывает на разницу в цене относительно базовой марки Audi.\n",
    "  - Mercedes-Benz: Коэффициент -70787842.69. Он указывает на разницу в цене относительно базовой марки Audi.\n",
    "- Цвет (Color):\n",
    "  - синий/коричневый: Коэффициент -35738992.04. Он указывает на разницу в цене относительно базового черного цвета.\n",
    "  - серый/серебряный: Коэффициент -35441814.23. Он указывает на разницу в цене относительно базового черного цвета.\n",
    "  - другой: Коэффициент -35445538.92. Он указывает на разницу в цене относительно базового черного цвета.\n",
    "  - красный: Коэффициент -35759599.05. Он указывает на разницу в цене относительно базового черного цвета.\n",
    "  - белый: Коэффициент -35803282.87. Он указывает на разницу в цене относительно базового черного цвета.\n",
    "- Механическая коробка передач (Is Manual Transmission): Коэффициент 3161779.23. Наличие механической коробки передач связано с увеличением цены на 3161779.23 единиц.\n",
    "- Год выпуска (Year): Коэффициент 160136.06. С увеличением года выпуска на 1, цена автомобиля повышается на 160136.06 единиц."
   ]
  },
  {
   "cell_type": "markdown",
   "metadata": {},
   "source": [
    "## Выводы"
   ]
  },
  {
   "cell_type": "markdown",
   "metadata": {},
   "source": [
    "На стоимость автомобиля указывают такие факторы как пробег, год выпуска, объем и мощность двигателя, принадлежность к кроссоверам или спортивной линейке или проблемы с законом. Модель статистически значимая (около 64%). Неожиданными оказались следующие факторы:\n",
    "\n",
    "    - Отсутствие влияния типа двигателя\n",
    "    - Меньший объем двигателя делает автомобиль дороже\n",
    "    - Автомобили с механической коробкой дороже"
   ]
  }
 ],
 "metadata": {
  "kernelspec": {
   "display_name": "Python 3",
   "language": "python",
   "name": "python3"
  },
  "language_info": {
   "codemirror_mode": {
    "name": "ipython",
    "version": 3
   },
   "file_extension": ".py",
   "mimetype": "text/x-python",
   "name": "python",
   "nbconvert_exporter": "python",
   "pygments_lexer": "ipython3",
   "version": "3.12.2"
  }
 },
 "nbformat": 4,
 "nbformat_minor": 2
}
