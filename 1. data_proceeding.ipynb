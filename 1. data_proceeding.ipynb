{
 "cells": [
  {
   "cell_type": "markdown",
   "metadata": {},
   "source": [
    "# Создание единой таблицы"
   ]
  },
  {
   "cell_type": "code",
   "execution_count": 13,
   "metadata": {},
   "outputs": [],
   "source": [
    "import pandas as pd\n",
    "from IPython.display import Latex\n",
    "file_count = 78\n",
    "\n",
    "def file_path(num, dir=\"data\"):\n",
    "    return f\"{dir}/file{num}.csv\""
   ]
  },
  {
   "cell_type": "code",
   "execution_count": 15,
   "metadata": {},
   "outputs": [],
   "source": [
    "# В файла может быть разное число колонок\n",
    "# Исправим\n",
    "for i in range(1, file_count + 1):\n",
    "    lines = []\n",
    "    with open(file_path(i), 'r', encoding='utf-8') as raw:\n",
    "        for line in raw:\n",
    "            lines.append(line.strip())\n",
    "    max_semicolon_cnt = 0\n",
    "    for line in lines:\n",
    "        max_semicolon_cnt = max(max_semicolon_cnt, line.count(\";\"))\n",
    "    with open(file_path(i, \"data_cols_norm\"), 'w') as file:\n",
    "        for line in lines:\n",
    "            semicolon_cnt = line.count(\";\")\n",
    "            file.write(line + (max_semicolon_cnt - semicolon_cnt) * \";\")\n",
    "            file.write(\"\\n\")"
   ]
  },
  {
   "cell_type": "code",
   "execution_count": 18,
   "metadata": {},
   "outputs": [
    {
     "data": {
      "text/latex": [
       "Бренд"
      ],
      "text/plain": [
       "<IPython.core.display.Latex object>"
      ]
     },
     "metadata": {},
     "output_type": "display_data"
    },
    {
     "data": {
      "text/latex": [
       "Модель"
      ],
      "text/plain": [
       "<IPython.core.display.Latex object>"
      ]
     },
     "metadata": {},
     "output_type": "display_data"
    },
    {
     "data": {
      "text/latex": [
       "Год"
      ],
      "text/plain": [
       "<IPython.core.display.Latex object>"
      ]
     },
     "metadata": {},
     "output_type": "display_data"
    },
    {
     "data": {
      "text/latex": [
       "Цена"
      ],
      "text/plain": [
       "<IPython.core.display.Latex object>"
      ]
     },
     "metadata": {},
     "output_type": "display_data"
    },
    {
     "data": {
      "text/latex": [
       "URL"
      ],
      "text/plain": [
       "<IPython.core.display.Latex object>"
      ]
     },
     "metadata": {},
     "output_type": "display_data"
    },
    {
     "data": {
      "text/latex": [
       "ПТС"
      ],
      "text/plain": [
       "<IPython.core.display.Latex object>"
      ]
     },
     "metadata": {},
     "output_type": "display_data"
    },
    {
     "data": {
      "text/latex": [
       "Владельцы"
      ],
      "text/plain": [
       "<IPython.core.display.Latex object>"
      ]
     },
     "metadata": {},
     "output_type": "display_data"
    },
    {
     "data": {
      "text/latex": [
       "Розыск"
      ],
      "text/plain": [
       "<IPython.core.display.Latex object>"
      ]
     },
     "metadata": {},
     "output_type": "display_data"
    },
    {
     "data": {
      "text/latex": [
       "Ограничения"
      ],
      "text/plain": [
       "<IPython.core.display.Latex object>"
      ]
     },
     "metadata": {},
     "output_type": "display_data"
    },
    {
     "data": {
      "text/latex": [
       "Город"
      ],
      "text/plain": [
       "<IPython.core.display.Latex object>"
      ]
     },
     "metadata": {},
     "output_type": "display_data"
    },
    {
     "data": {
      "text/latex": [
       "Двигатель"
      ],
      "text/plain": [
       "<IPython.core.display.Latex object>"
      ]
     },
     "metadata": {},
     "output_type": "display_data"
    },
    {
     "data": {
      "text/latex": [
       "Мощность"
      ],
      "text/plain": [
       "<IPython.core.display.Latex object>"
      ]
     },
     "metadata": {},
     "output_type": "display_data"
    },
    {
     "data": {
      "text/latex": [
       "Коробка передач"
      ],
      "text/plain": [
       "<IPython.core.display.Latex object>"
      ]
     },
     "metadata": {},
     "output_type": "display_data"
    },
    {
     "data": {
      "text/latex": [
       "Привод"
      ],
      "text/plain": [
       "<IPython.core.display.Latex object>"
      ]
     },
     "metadata": {},
     "output_type": "display_data"
    },
    {
     "data": {
      "text/latex": [
       "Тип кузова"
      ],
      "text/plain": [
       "<IPython.core.display.Latex object>"
      ]
     },
     "metadata": {},
     "output_type": "display_data"
    },
    {
     "data": {
      "text/latex": [
       "Цвет"
      ],
      "text/plain": [
       "<IPython.core.display.Latex object>"
      ]
     },
     "metadata": {},
     "output_type": "display_data"
    },
    {
     "data": {
      "text/latex": [
       "Пробег"
      ],
      "text/plain": [
       "<IPython.core.display.Latex object>"
      ]
     },
     "metadata": {},
     "output_type": "display_data"
    },
    {
     "data": {
      "text/latex": [
       "Руль"
      ],
      "text/plain": [
       "<IPython.core.display.Latex object>"
      ]
     },
     "metadata": {},
     "output_type": "display_data"
    },
    {
     "data": {
      "text/latex": [
       "Поколение"
      ],
      "text/plain": [
       "<IPython.core.display.Latex object>"
      ]
     },
     "metadata": {},
     "output_type": "display_data"
    },
    {
     "data": {
      "text/latex": [
       "Комплектация"
      ],
      "text/plain": [
       "<IPython.core.display.Latex object>"
      ]
     },
     "metadata": {},
     "output_type": "display_data"
    },
    {
     "data": {
      "text/latex": [
       "Особые отметки"
      ],
      "text/plain": [
       "<IPython.core.display.Latex object>"
      ]
     },
     "metadata": {},
     "output_type": "display_data"
    },
    {
     "data": {
      "text/latex": [
       "VIN"
      ],
      "text/plain": [
       "<IPython.core.display.Latex object>"
      ]
     },
     "metadata": {},
     "output_type": "display_data"
    }
   ],
   "source": [
    "df_s = []\n",
    "headers = []\n",
    "for i in range(1, file_count + 1):\n",
    "    headers.append(pd.read_csv(file_path(i, \"data_cols_norm\"), nrows=1, encoding='cp1251', header=None, delimiter=\";\"))\n",
    "    df_s.append(pd.read_csv(file_path(i, \"data_cols_norm\"), encoding='cp1251', delimiter=\";\"))\n",
    "\n",
    "\n",
    "headers_all = [] # (index_start, index end], headers\n",
    "\n",
    "headers_all.append([0])\n",
    "\n",
    "master_table_cols = []\n",
    "for i in range(1, file_count):\n",
    "    header_prev = headers[i - 1].map(lambda x: [x] if pd.notnull(x) else []).sum(1).tolist()[0]\n",
    "    header_curr = headers[i].map(lambda x: [x] if pd.notnull(x) else []).sum(1).tolist()[0]\n",
    "    if len(header_prev) > len(header_curr) or header_prev != header_curr[:len(header_prev)]:\n",
    "        headers_all[-1].append(i)\n",
    "        headers_all[-1].append(header_prev)\n",
    "        for header in header_prev:\n",
    "            if header not in master_table_cols:\n",
    "                master_table_cols.append(header)\n",
    "        headers_all.append([i])\n",
    "\n",
    "header_last = headers[file_count - 1].map(lambda x: [x] if pd.notnull(x) else []).sum(1).tolist()[0]\n",
    "headers_all[-1].append(file_count)\n",
    "headers_all[-1].append(header_last)\n",
    "\n",
    "headers_all\n",
    "for col in master_table_cols:\n",
    "    display(Latex(col))"
   ]
  },
  {
   "cell_type": "code",
   "execution_count": 19,
   "metadata": {},
   "outputs": [],
   "source": [
    "import numpy as np\n",
    "\n",
    "\n",
    "master_table_dict = dict()\n",
    "\n",
    "for col in master_table_cols:\n",
    "    master_table_dict[col] = []\n",
    "\n",
    "for header_interval in headers_all:\n",
    "    for file_num in range(header_interval[0], header_interval[1]):\n",
    "        df_s[file_num].columns = header_interval[2][:df_s[file_num].shape[1]] + [\"\"] * max(df_s[file_num].shape[1] - len(header_interval[2]), 0)\n",
    "        for col in master_table_cols:\n",
    "            if col in df_s[file_num].columns:\n",
    "                master_table_dict[col].extend(df_s[file_num][col].tolist())\n",
    "            else:\n",
    "                master_table_dict[col].extend([np.nan] * df_s[file_num].shape[0])\n",
    "\n",
    "\n",
    "master_table = pd.DataFrame(master_table_dict)\n",
    "master_table.to_csv(\"master_table.csv\", index=True, sep=';')"
   ]
  }
 ],
 "metadata": {
  "kernelspec": {
   "display_name": "Python 3",
   "language": "python",
   "name": "python3"
  },
  "language_info": {
   "codemirror_mode": {
    "name": "ipython",
    "version": 3
   },
   "file_extension": ".py",
   "mimetype": "text/x-python",
   "name": "python",
   "nbconvert_exporter": "python",
   "pygments_lexer": "ipython3",
   "version": "3.12.2"
  }
 },
 "nbformat": 4,
 "nbformat_minor": 2
}
